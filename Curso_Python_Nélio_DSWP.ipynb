{
  "nbformat": 4,
  "nbformat_minor": 0,
  "metadata": {
    "colab": {
      "name": "Curso Python Nélio - DSWP.ipynb",
      "provenance": [],
      "authorship_tag": "ABX9TyML1JJmYMwPBjaRDrL9TrhY",
      "include_colab_link": true
    },
    "kernelspec": {
      "name": "python3",
      "display_name": "Python 3"
    }
  },
  "cells": [
    {
      "cell_type": "markdown",
      "metadata": {
        "id": "view-in-github",
        "colab_type": "text"
      },
      "source": [
        "<a href=\"https://colab.research.google.com/github/glaucohb/DSWP_Anotacoes_Glauco/blob/main/Curso_Python_N%C3%A9lio_DSWP.ipynb\" target=\"_parent\"><img src=\"https://colab.research.google.com/assets/colab-badge.svg\" alt=\"Open In Colab\"/></a>"
      ]
    },
    {
      "cell_type": "code",
      "metadata": {
        "id": "2PYS9KocW7aX"
      },
      "source": [
        "#criar links\n",
        "#[brackets around the linked text](and-parentheses-around-the-url.html)\n",
        "[link para notebook 1](www.google.com.br)\n"
      ],
      "execution_count": null,
      "outputs": []
    },
    {
      "cell_type": "markdown",
      "metadata": {
        "id": "rbHWp0nIXXJ8"
      },
      "source": [
        "<center><h1><b><i>Curso Python Nélio - DSWP</i></b></h1></center>\n",
        "\n",
        "[INTRODUÇÃO AO PYTHON](https://colab.research.google.com/github/glaucohb/DSWP/blob/master/Notebooks/NB01_01__Getting_Started.ipynb)\n",
        "\n",
        "* Comentários no Python;\n",
        "* Regras gerais para nomes de variáveis no Python;\n",
        "* Como descobrir as palavras reservadas do Python;\n",
        "* Como deletar variáveis;\n",
        "\n"
      ]
    },
    {
      "cell_type": "markdown",
      "metadata": {
        "id": "zFfwWxbeXKTl"
      },
      "source": [
        ""
      ]
    }
  ]
}