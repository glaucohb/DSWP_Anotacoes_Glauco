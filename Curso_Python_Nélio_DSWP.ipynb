{
  "nbformat": 4,
  "nbformat_minor": 0,
  "metadata": {
    "colab": {
      "name": "Curso Python Nélio - DSWP.ipynb",
      "provenance": [],
      "collapsed_sections": [],
      "authorship_tag": "ABX9TyMMnOzUgtR2kRRidrH882BB",
      "include_colab_link": true
    },
    "kernelspec": {
      "name": "python3",
      "display_name": "Python 3"
    }
  },
  "cells": [
    {
      "cell_type": "markdown",
      "metadata": {
        "id": "view-in-github",
        "colab_type": "text"
      },
      "source": [
        "<a href=\"https://colab.research.google.com/github/glaucohb/DSWP_Anotacoes_Glauco/blob/main/Curso_Python_N%C3%A9lio_DSWP.ipynb\" target=\"_parent\"><img src=\"https://colab.research.google.com/assets/colab-badge.svg\" alt=\"Open In Colab\"/></a>"
      ]
    },
    {
      "cell_type": "code",
      "metadata": {
        "id": "2PYS9KocW7aX"
      },
      "source": [
        "#criar links\n",
        "#[brackets around the linked text](and-parentheses-around-the-url.html)\n"
      ],
      "execution_count": null,
      "outputs": []
    },
    {
      "cell_type": "markdown",
      "metadata": {
        "id": "rbHWp0nIXXJ8"
      },
      "source": [
        "<center><h1><b><i>Curso Python Nélio - DSWP</i></b></h1></center>\n",
        "\n",
        "1. [INTRODUÇÃO AO PYTHON](https://colab.research.google.com/github/glaucohb/DSWP/blob/master/Notebooks/NB01_01__Getting_Started.ipynb)\n",
        ">* Comentários no Python;\n",
        ">* Regras gerais para nomes de variáveis no Python;\n",
        ">* Como descobrir as palavras reservadas do Python;\n",
        ">* Como deletar variáveis;\n",
        "1. [NB01_02__Condicionais.ipynb]()\n",
        "1. [NB01_03__Loops While & For.ipynb]()\n",
        "1. [NB01_05__Datas_Horas.ipynb]()\n",
        "1. [NB02__Numpy.ipynb]()\n",
        "1. [NB03__Numeros.ipynb]()\n",
        "1. [NB04__Strings.ipynb]()\n",
        "1. [NB05__Tuples.ipynb]()\n",
        "1. [NB06_01__Lists.ipynb]()\n",
        "1. [NB06_02__List_Comprehension.ipynb]()\n",
        "1. [NB07__Dictionaries.ipynb]()\n",
        "1. [NB08__Sets.ipynb]()\n",
        "1. [NB09_01__Functions.ipynb](https://colab.research.google.com/github/glaucohb/DSWP/blob/master/Notebooks/NB09_01__Functions.ipynb)\n",
        "1. [NB09_02__Lambda_Functions.ipynb]()\n",
        "1. [NB09_03__Exception Handling.ipynb]()\n",
        "1. [NB09_03__Exception_Handling.ipynb]()\n",
        "1. [NB10_01__Pandas.ipynb]()\n",
        "1. [PANDAS PARA DATA ANALYSIS](https://colab.research.google.com/github/glaucohb/DSWP/blob/master/Notebooks/NB10_01__Pandas.ipynb)\n",
        ">* Carregar a library Pandas e verificar a versão\n",
        ">* Configurações\n",
        ">* Criar dataframe a partir de dicionários\n",
        ">* Criar dataframes a partir de listas\n",
        ">* Copiar dataframes\n",
        ">* Renomear COLUNAS do dataframe\n",
        ">* Adicionar/Acrescentar novas LINHAS ao dataframe\n",
        ">* Adicionar/acrescentar novas COLUNAS ao Dataframe\n",
        ">* Ler/carregar dados no Python\n",
        ">* Ler/Carregar csv\n",
        ">* Corrigir (ou uniformizar) nome das COLUNAS\n",
        ">* Selecionar um subconjunto de colunas\n",
        ">* map()\n",
        ">* Selecionar COLUNAS do dataframe\n",
        ">* Criar um dicionário a partir de um dataframe\n",
        ">* Criar uma lista a partir de um dataframe\n",
        ">* Mostrar as primeiras k LINHAS do dataframe\n",
        ">* Mostrar as últimas k LINHAS do dataframe\n",
        ">* Mostrar o nome das COLUNAS do dataframe\n",
        ">* Mostrar os tipos das COLUNAS do dataframe\n",
        ">* Selecionar automaticamente as COLUNAS do dataframe pelo tipo\n",
        ">* Reordenar as COLUNAS do dataframe\n",
        ">* Mostrar a dimensão do dataframe\n",
        ">* Selecionar LINHAS do dataframe baseado nos índices\n",
        ">* Selecionar/Filtrar/Substituir LINHAS do dataframe baseado em condições\n",
        ">* Selecionar amostras aleatórias do dataframe\n",
        ">* Descrever o Dataframe\n",
        ">* Identificar e lidar com LINHAS duplicadas\n",
        ">* Trabalhar com dados do tipo texto\n",
        ">* Agrupar Informações: pd.groupby()\n",
        ">* Discretizar COLUNAS numéricas\n",
        ">* Distribuição conjunta - crosstabs\n",
        ">* Deletar COLUNAS do dataframe\n",
        ">* Criar COLUNAS dummies para dados categóricos\n",
        ">* Calcular correlação (Análise de Correlação)\n",
        ">* Scatterplot\n",
        ">* Salvar dataframe como csv\n",
        ">* Dicionário de palavras\n",
        "1. [NB10_02__Series.ipynb]()\n",
        "1. [NB10_99__3DP_2_Missing Value Handling.ipynb]()\n",
        "1. [NB10_99__3DP_3_Anomaly Detection.ipynb]()\n",
        "1. [NB10_99__3DP_3_Data Transformation.ipynb]()\n",
        "1. [NB10_99__3DP_4_Data Transformation.ipynb]()\n",
        "1. [NB10_99__3DP_5_Feature Selection.ipynb]()\n",
        "1. [NB10_99__Missing Values Handling.ipynb]()\n",
        "1. [NB15_00__Machine Learning.ipynb]()\n",
        "1. [NB19_Redes_Neurais__Aubay.ipynb]()"
      ]
    },
    {
      "cell_type": "markdown",
      "metadata": {
        "id": "Fpt8T5byaHB8"
      },
      "source": [
        ""
      ]
    }
  ]
}